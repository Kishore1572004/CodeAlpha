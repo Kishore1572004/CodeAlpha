{
  "nbformat": 4,
  "nbformat_minor": 0,
  "metadata": {
    "colab": {
      "provenance": [],
      "authorship_tag": "ABX9TyOLy9tb8z0KzqBryrs/o7ns",
      "include_colab_link": true
    },
    "kernelspec": {
      "name": "python3",
      "display_name": "Python 3"
    },
    "language_info": {
      "name": "python"
    }
  },
  "cells": [
    {
      "cell_type": "markdown",
      "metadata": {
        "id": "view-in-github",
        "colab_type": "text"
      },
      "source": [
        "<a href=\"https://colab.research.google.com/github/Kishore1572004/CodeAlpha/blob/main/Hangman_Game.ipynb\" target=\"_parent\"><img src=\"https://colab.research.google.com/assets/colab-badge.svg\" alt=\"Open In Colab\"/></a>"
      ]
    },
    {
      "cell_type": "code",
      "execution_count": 2,
      "metadata": {
        "colab": {
          "base_uri": "https://localhost:8080/"
        },
        "id": "SJX6pcz4i9Px",
        "outputId": "049bfbb8-9f01-4ec0-bb00-6e0def61d272"
      },
      "outputs": [
        {
          "output_type": "stream",
          "name": "stdout",
          "text": [
            "Welcome to Hangman!\n",
            "\n",
            "Current state: _ _ _ _ _ _ _ _ _ _ _\n",
            "Guessed letters: \n",
            "Incorrect guesses left: 6\n",
            "Guess a letter: p\n",
            "Good job! 'p' is in the word.\n",
            "\n",
            "Current state: p _ _ _ _ _ _ _ _ _ _\n",
            "Guessed letters: p\n",
            "Incorrect guesses left: 6\n",
            "Guess a letter: c\n",
            "Sorry, 'c' is not in the word.\n",
            "\n",
            "Current state: p _ _ _ _ _ _ _ _ _ _\n",
            "Guessed letters: c, p\n",
            "Incorrect guesses left: 5\n",
            "Guess a letter: r\n",
            "Good job! 'r' is in the word.\n",
            "\n",
            "Current state: p r _ _ r _ _ _ _ _ _\n",
            "Guessed letters: c, p, r\n",
            "Incorrect guesses left: 5\n",
            "Guess a letter: o\n",
            "Good job! 'o' is in the word.\n",
            "\n",
            "Current state: p r o _ r _ _ _ _ _ _\n",
            "Guessed letters: c, o, p, r\n",
            "Incorrect guesses left: 5\n",
            "Guess a letter: g\n",
            "Good job! 'g' is in the word.\n",
            "\n",
            "Current state: p r o g r _ _ _ _ _ g\n",
            "Guessed letters: c, g, o, p, r\n",
            "Incorrect guesses left: 5\n",
            "Guess a letter: m\n",
            "Good job! 'm' is in the word.\n",
            "\n",
            "Current state: p r o g r _ m m _ _ g\n",
            "Guessed letters: c, g, m, o, p, r\n",
            "Incorrect guesses left: 5\n",
            "Guess a letter: i\n",
            "Good job! 'i' is in the word.\n",
            "\n",
            "Current state: p r o g r _ m m i _ g\n",
            "Guessed letters: c, g, i, m, o, p, r\n",
            "Incorrect guesses left: 5\n",
            "Guess a letter: n\n",
            "Good job! 'n' is in the word.\n",
            "\n",
            "Current state: p r o g r _ m m i n g\n",
            "Guessed letters: c, g, i, m, n, o, p, r\n",
            "Incorrect guesses left: 5\n",
            "Guess a letter: a\n",
            "Good job! 'a' is in the word.\n",
            "Congratulations! You've guessed the word: programming\n"
          ]
        }
      ],
      "source": [
        "import random\n",
        "\n",
        "def choose_word():\n",
        "    # List of words to choose from\n",
        "    words = ['python', 'development', 'hangman', 'challenge', 'programming']\n",
        "    return random.choice(words)\n",
        "\n",
        "def display_current_state(word, guessed_letters):\n",
        "    # Display the current state of the word with underscores for unguessed letters\n",
        "    return ' '.join([letter if letter in guessed_letters else '_' for letter in word])\n",
        "\n",
        "def hangman_game():\n",
        "    word = choose_word()  # Choose a random word\n",
        "    guessed_letters = set()\n",
        "    incorrect_guesses = 0\n",
        "    max_incorrect_guesses = 6\n",
        "\n",
        "    print(\"Welcome to Hangman!\")\n",
        "\n",
        "    while incorrect_guesses < max_incorrect_guesses:\n",
        "        # Display current state of the word\n",
        "        print(f\"\\nCurrent state: {display_current_state(word, guessed_letters)}\")\n",
        "        print(f\"Guessed letters: {', '.join(sorted(guessed_letters))}\")\n",
        "        print(f\"Incorrect guesses left: {max_incorrect_guesses - incorrect_guesses}\")\n",
        "\n",
        "        # Get user's guess\n",
        "        guess = input(\"Guess a letter: \").lower()\n",
        "\n",
        "        if len(guess) != 1 or not guess.isalpha():\n",
        "            print(\"Please enter a single letter.\")\n",
        "            continue\n",
        "\n",
        "        if guess in guessed_letters:\n",
        "            print(f\"You've already guessed '{guess}'. Try again.\")\n",
        "            continue\n",
        "\n",
        "        guessed_letters.add(guess)\n",
        "\n",
        "        if guess in word:\n",
        "            print(f\"Good job! '{guess}' is in the word.\")\n",
        "            if all(letter in guessed_letters for letter in word):\n",
        "                print(f\"Congratulations! You've guessed the word: {word}\")\n",
        "                break\n",
        "        else:\n",
        "            incorrect_guesses += 1\n",
        "            print(f\"Sorry, '{guess}' is not in the word.\")\n",
        "\n",
        "    if incorrect_guesses == max_incorrect_guesses:\n",
        "        print(f\"Game over! The word was: {word}\")\n",
        "\n",
        "if __name__ == \"__main__\":\n",
        "    hangman_game()"
      ]
    },
    {
      "cell_type": "code",
      "source": [],
      "metadata": {
        "id": "lmUsU4TojGr7"
      },
      "execution_count": 2,
      "outputs": []
    }
  ]
}